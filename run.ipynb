{
 "cells": [
  {
   "cell_type": "code",
   "execution_count": 20,
   "id": "effd1abd",
   "metadata": {},
   "outputs": [],
   "source": [
    "from deepface import DeepFace"
   ]
  },
  {
   "cell_type": "code",
   "execution_count": 21,
   "id": "5cfe4239",
   "metadata": {},
   "outputs": [
    {
     "name": "stdout",
     "output_type": "stream",
     "text": [
      "Enter the file path of the input image: images/img1.png\n"
     ]
    }
   ],
   "source": [
    "file_path = input(\"Enter the file path of the input image: \")"
   ]
  },
  {
   "cell_type": "code",
   "execution_count": 22,
   "id": "406f7539",
   "metadata": {},
   "outputs": [
    {
     "name": "stderr",
     "output_type": "stream",
     "text": [
      "Action: race: 100%|██████████████████████████████████████████████████████████████████████| 4/4 [00:02<00:00,  1.66it/s]"
     ]
    },
    {
     "name": "stdout",
     "output_type": "stream",
     "text": [
      "happy\n"
     ]
    },
    {
     "name": "stderr",
     "output_type": "stream",
     "text": [
      "\n"
     ]
    }
   ],
   "source": [
    "face_analysis = DeepFace.analyze(img_path = file_path)\n",
    "emotion=face_analysis[0][\"dominant_emotion\"];\n",
    "print(emotion)"
   ]
  },
  {
   "cell_type": "code",
   "execution_count": 23,
   "id": "a84239a7",
   "metadata": {
    "scrolled": false
   },
   "outputs": [
    {
     "name": "stdout",
     "output_type": "stream",
     "text": [
      "age [0 => 15-25, 1 => 26-35, 2 => 36-45, 3 => 46-55, 4 => 56-65]  :  1\n",
      "relationship_status [0 => unmarried, 1 => married, 2 => in a relationship, 3 => breakup, 4 => divorce]  :  3\n",
      "gender [0 => male, 1 => female, 2 => transgender]  :  1\n",
      "depression level [0 => mild, 1 => moderate, 2 => severe]  :  1\n",
      "working_status [0 => unemployed, 1 => employed]  :  0\n",
      "no of days  :  10\n",
      "social_interaction_level [0 => No_social_interaction - living alone, 1 => Less social interaction - living alone,2 => Good Social interaction - living alone , 3 => Living with family/friends but introvert, little interaction, 4 => living with friends/ family, extrovert, social people , 5 => living with family, no social interaction, completely lost ]  :  1\n",
      "admission_status [0 => not admitted, 1 => admitted]  :  1\n",
      "drugs/alcohol [0 => donot consume drugs/alcohol, 1 => consume drugs/alcohol]  :  0\n"
     ]
    }
   ],
   "source": [
    "age=int(input(\"age [0 => 15-25, 1 => 26-35, 2 => 36-45, 3 => 46-55, 4 => 56-65]  :  \"))\n",
    "relationship_status=int(input(\"relationship_status [0 => unmarried, 1 => married, 2 => in a relationship, 3 => breakup, 4 => divorce]  :  \"))\n",
    "gender=int(input(\"gender [0 => male, 1 => female, 2 => transgender]  :  \"))\n",
    "depression_level=int(input(\"depression level [0 => mild, 1 => moderate, 2 => severe]  :  \"))\n",
    "working_Status=int(input(\"working_status [0 => unemployed, 1 => employed]  :  \"))\n",
    "no_of_days=int(input(\"no of days  :  \"))\n",
    "social_interaction_level=int(input(\"social_interaction_level [0 => No_social_interaction - living alone, 1 => Less social interaction - living alone,2 => Good Social interaction - living alone , 3 => Living with family/friends but introvert, little interaction, 4 => living with friends/ family, extrovert, social people , 5 => living with family, no social interaction, completely lost ]  :  \"))\n",
    "admission_status=int(input(\"admission_status [0 => not admitted, 1 => admitted]  :  \"))\n",
    "drugs_alcohol=int(input(\"drugs/alcohol [0 => donot consume drugs/alcohol, 1 => consume drugs/alcohol]  :  \"))"
   ]
  },
  {
   "cell_type": "code",
   "execution_count": 24,
   "id": "0cb60831",
   "metadata": {},
   "outputs": [],
   "source": [
    "if(emotion==\"angry\"):\n",
    "    emotion=0\n",
    "elif(emotion==\"anxiety\"):\n",
    "    emotion=1\n",
    "elif(emotion==\"fear\"):\n",
    "    emotion=2\n",
    "elif(emotion==\"happy\"):\n",
    "    emotion=3\n",
    "elif(emotion==\"neutral\"):\n",
    "    emotion=4\n",
    "elif(emotion==\"sad\"):\n",
    "    emotion=5\n",
    "else:\n",
    "    emotion=6"
   ]
  },
  {
   "cell_type": "code",
   "execution_count": 25,
   "id": "445351c6",
   "metadata": {},
   "outputs": [
    {
     "data": {
      "text/plain": [
       "array([[ 3,  1,  3,  1,  1,  0, 10,  1,  1,  0]])"
      ]
     },
     "execution_count": 25,
     "metadata": {},
     "output_type": "execute_result"
    }
   ],
   "source": [
    "import numpy as np\n",
    "testdata=[[emotion,age,relationship_status,gender,depression_level,working_Status,no_of_days,social_interaction_level,admission_status,drugs_alcohol]]\n",
    "input_data=np.array(testdata)\n",
    "input_data"
   ]
  },
  {
   "cell_type": "code",
   "execution_count": 26,
   "id": "e3f784b9",
   "metadata": {},
   "outputs": [],
   "source": [
    "# Load the model\n",
    "import joblib\n",
    "model = joblib.load('decisiontree_model.joblib')"
   ]
  },
  {
   "cell_type": "code",
   "execution_count": 27,
   "id": "1abb99be",
   "metadata": {},
   "outputs": [
    {
     "name": "stdout",
     "output_type": "stream",
     "text": [
      "High risk of suicide\n"
     ]
    }
   ],
   "source": [
    "prediction = model.predict(input_data)\n",
    "if(prediction):\n",
    "    print(\"High risk of suicide\")\n",
    "else:\n",
    "    print(\"Low risk of suicide\")"
   ]
  },
  {
   "cell_type": "code",
   "execution_count": null,
   "id": "48472779",
   "metadata": {},
   "outputs": [],
   "source": []
  }
 ],
 "metadata": {
  "kernelspec": {
   "display_name": "Python 3",
   "language": "python",
   "name": "python3"
  },
  "language_info": {
   "codemirror_mode": {
    "name": "ipython",
    "version": 3
   },
   "file_extension": ".py",
   "mimetype": "text/x-python",
   "name": "python",
   "nbconvert_exporter": "python",
   "pygments_lexer": "ipython3",
   "version": "3.8.8"
  }
 },
 "nbformat": 4,
 "nbformat_minor": 5
}
